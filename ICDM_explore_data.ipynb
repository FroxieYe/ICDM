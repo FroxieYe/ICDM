{
 "cells": [
  {
   "cell_type": "code",
   "execution_count": 1,
   "metadata": {
    "collapsed": true
   },
   "outputs": [],
   "source": [
    "import pandas as pd\n",
    "import numpy as np\n",
    "import scipy as sp\n",
    "import os\n",
    "import matplotlib.pyplot as plt\n",
    "\n",
    "import csv\n",
    "from io import StringIO\n",
    "import subprocess\n",
    "\n",
    "%matplotlib inline \n"
   ]
  },
  {
   "cell_type": "code",
   "execution_count": 28,
   "metadata": {
    "collapsed": false
   },
   "outputs": [
    {
     "name": "stdout",
     "output_type": "stream",
     "text": [
      "cookie_all_basic.csv\n",
      "dev_test_basic.csv\n",
      "dev_train_basic.csv\n",
      "id_all_ip.csv\n",
      "id_all_property.csv\n",
      "ipagg_all.csv\n",
      "property_category.csv\n",
      "sampleSubmission.csv\n"
     ]
    }
   ],
   "source": [
    "files = os.listdir(\"/Users/wenshuaiye/Downloads/ICDM\")\n",
    "icdm_df = {}\n",
    "for f in files:\n",
    "    f_list = f.split('.')\n",
    "    if f_list[-1] == 'csv':\n",
    "        print f\n",
    "        icdm_df[f_list[0]] = pd.read_csv(\"/Users/wenshuaiye/Downloads/ICDM/\"+f)"
   ]
  },
  {
   "cell_type": "code",
   "execution_count": 13,
   "metadata": {
    "collapsed": false
   },
   "outputs": [
    {
     "data": {
      "text/plain": [
       "(139419,)"
      ]
     },
     "execution_count": 13,
     "metadata": {},
     "output_type": "execute_result"
    }
   ],
   "source": [
    "icdm_df[\"dev_train_basic\"].drawbridge_handle.unique().shape"
   ]
  },
  {
   "cell_type": "code",
   "execution_count": 29,
   "metadata": {
    "collapsed": false
   },
   "outputs": [
    {
     "data": {
      "text/html": [
       "<div style=\"max-height:1000px;max-width:1500px;overflow:auto;\">\n",
       "<table border=\"1\" class=\"dataframe\">\n",
       "  <thead>\n",
       "    <tr style=\"text-align: right;\">\n",
       "      <th></th>\n",
       "      <th>device_or_cookie_id</th>\n",
       "      <th>device_or_cookie_indicator</th>\n",
       "      <th>property_id</th>\n",
       "      <th>unique_days_seeing_property_on_device_or_cookie_id</th>\n",
       "    </tr>\n",
       "  </thead>\n",
       "  <tbody>\n",
       "    <tr>\n",
       "      <th>0</th>\n",
       "      <td> id_558314</td>\n",
       "      <td> 1</td>\n",
       "      <td>  property_66021</td>\n",
       "      <td>  7</td>\n",
       "    </tr>\n",
       "    <tr>\n",
       "      <th>1</th>\n",
       "      <td> id_558314</td>\n",
       "      <td> 1</td>\n",
       "      <td>  property_24444</td>\n",
       "      <td>  1</td>\n",
       "    </tr>\n",
       "    <tr>\n",
       "      <th>2</th>\n",
       "      <td> id_558314</td>\n",
       "      <td> 1</td>\n",
       "      <td> property_285395</td>\n",
       "      <td>  6</td>\n",
       "    </tr>\n",
       "    <tr>\n",
       "      <th>3</th>\n",
       "      <td> id_558314</td>\n",
       "      <td> 1</td>\n",
       "      <td> property_267459</td>\n",
       "      <td>  1</td>\n",
       "    </tr>\n",
       "    <tr>\n",
       "      <th>4</th>\n",
       "      <td> id_558314</td>\n",
       "      <td> 1</td>\n",
       "      <td> property_197052</td>\n",
       "      <td> 14</td>\n",
       "    </tr>\n",
       "  </tbody>\n",
       "</table>\n",
       "</div>"
      ],
      "text/plain": [
       "  device_or_cookie_id  device_or_cookie_indicator      property_id  \\\n",
       "0           id_558314                           1   property_66021   \n",
       "1           id_558314                           1   property_24444   \n",
       "2           id_558314                           1  property_285395   \n",
       "3           id_558314                           1  property_267459   \n",
       "4           id_558314                           1  property_197052   \n",
       "\n",
       "   unique_days_seeing_property_on_device_or_cookie_id  \n",
       "0                                                  7   \n",
       "1                                                  1   \n",
       "2                                                  6   \n",
       "3                                                  1   \n",
       "4                                                 14   "
      ]
     },
     "execution_count": 29,
     "metadata": {},
     "output_type": "execute_result"
    }
   ],
   "source": [
    "icdm_df[\"id_all_property\"].head()"
   ]
  },
  {
   "cell_type": "code",
   "execution_count": 30,
   "metadata": {
    "collapsed": false
   },
   "outputs": [
    {
     "data": {
      "text/plain": [
       "(103928872, 4)"
      ]
     },
     "execution_count": 30,
     "metadata": {},
     "output_type": "execute_result"
    }
   ],
   "source": [
    "icdm_df[\"id_all_property\"].shape"
   ]
  },
  {
   "cell_type": "code",
   "execution_count": 14,
   "metadata": {
    "collapsed": false
   },
   "outputs": [
    {
     "data": {
      "text/html": [
       "<div style=\"max-height:1000px;max-width:1500px;overflow:auto;\">\n",
       "<table border=\"1\" class=\"dataframe\">\n",
       "  <thead>\n",
       "    <tr style=\"text-align: right;\">\n",
       "      <th></th>\n",
       "      <th>device_id</th>\n",
       "      <th>cookie_id</th>\n",
       "    </tr>\n",
       "  </thead>\n",
       "  <tbody>\n",
       "    <tr>\n",
       "      <th>0</th>\n",
       "      <td>       id_1</td>\n",
       "      <td> id_10</td>\n",
       "    </tr>\n",
       "    <tr>\n",
       "      <th>1</th>\n",
       "      <td>  id_100002</td>\n",
       "      <td> id_10</td>\n",
       "    </tr>\n",
       "    <tr>\n",
       "      <th>2</th>\n",
       "      <td> id_1000035</td>\n",
       "      <td> id_10</td>\n",
       "    </tr>\n",
       "    <tr>\n",
       "      <th>3</th>\n",
       "      <td> id_1000099</td>\n",
       "      <td> id_10</td>\n",
       "    </tr>\n",
       "    <tr>\n",
       "      <th>4</th>\n",
       "      <td> id_1000294</td>\n",
       "      <td> id_10</td>\n",
       "    </tr>\n",
       "  </tbody>\n",
       "</table>\n",
       "</div>"
      ],
      "text/plain": [
       "    device_id cookie_id\n",
       "0        id_1     id_10\n",
       "1   id_100002     id_10\n",
       "2  id_1000035     id_10\n",
       "3  id_1000099     id_10\n",
       "4  id_1000294     id_10"
      ]
     },
     "execution_count": 14,
     "metadata": {},
     "output_type": "execute_result"
    }
   ],
   "source": [
    "icdm_df[\"sampleSubmission\"].head()"
   ]
  },
  {
   "cell_type": "code",
   "execution_count": 19,
   "metadata": {
    "collapsed": false
   },
   "outputs": [
    {
     "data": {
      "text/html": [
       "<div style=\"max-height:1000px;max-width:1500px;overflow:auto;\">\n",
       "<table border=\"1\" class=\"dataframe\">\n",
       "  <thead>\n",
       "    <tr style=\"text-align: right;\">\n",
       "      <th></th>\n",
       "      <th>device_or_cookie_id</th>\n",
       "      <th>device_or_cookie_indicator</th>\n",
       "      <th>ip</th>\n",
       "      <th>ip_freq_count</th>\n",
       "      <th>idxip_anonymous_c1</th>\n",
       "      <th>idxip_anonymous_c2</th>\n",
       "      <th>idxip_anonymous_c3</th>\n",
       "      <th>idxip_anonymous_c4</th>\n",
       "      <th>idxip_anonymous_c5</th>\n",
       "    </tr>\n",
       "  </thead>\n",
       "  <tbody>\n",
       "    <tr>\n",
       "      <th>31249705</th>\n",
       "      <td> id_4676078</td>\n",
       "      <td> 0</td>\n",
       "      <td>  ip4110970</td>\n",
       "      <td>  87</td>\n",
       "      <td>   0</td>\n",
       "      <td>  87</td>\n",
       "      <td> 1</td>\n",
       "      <td> 0</td>\n",
       "      <td> 1</td>\n",
       "    </tr>\n",
       "    <tr>\n",
       "      <th>31249706</th>\n",
       "      <td> id_4676078</td>\n",
       "      <td> 0</td>\n",
       "      <td> ip20364193</td>\n",
       "      <td>  73</td>\n",
       "      <td>  73</td>\n",
       "      <td>   6</td>\n",
       "      <td> 2</td>\n",
       "      <td> 3</td>\n",
       "      <td> 1</td>\n",
       "    </tr>\n",
       "    <tr>\n",
       "      <th>31249707</th>\n",
       "      <td> id_4676078</td>\n",
       "      <td> 0</td>\n",
       "      <td>  ip8232100</td>\n",
       "      <td> 223</td>\n",
       "      <td> 223</td>\n",
       "      <td> 177</td>\n",
       "      <td> 1</td>\n",
       "      <td> 1</td>\n",
       "      <td> 1</td>\n",
       "    </tr>\n",
       "    <tr>\n",
       "      <th>31249708</th>\n",
       "      <td> id_4676078</td>\n",
       "      <td> 0</td>\n",
       "      <td>  ip1078323</td>\n",
       "      <td>   4</td>\n",
       "      <td>   0</td>\n",
       "      <td>   4</td>\n",
       "      <td> 1</td>\n",
       "      <td> 0</td>\n",
       "      <td> 1</td>\n",
       "    </tr>\n",
       "    <tr>\n",
       "      <th>31249709</th>\n",
       "      <td> id_4676078</td>\n",
       "      <td> 0</td>\n",
       "      <td> ip14290649</td>\n",
       "      <td>   1</td>\n",
       "      <td>   1</td>\n",
       "      <td>   1</td>\n",
       "      <td> 1</td>\n",
       "      <td> 1</td>\n",
       "      <td> 1</td>\n",
       "    </tr>\n",
       "  </tbody>\n",
       "</table>\n",
       "</div>"
      ],
      "text/plain": [
       "         device_or_cookie_id  device_or_cookie_indicator          ip  \\\n",
       "31249705          id_4676078                           0   ip4110970   \n",
       "31249706          id_4676078                           0  ip20364193   \n",
       "31249707          id_4676078                           0   ip8232100   \n",
       "31249708          id_4676078                           0   ip1078323   \n",
       "31249709          id_4676078                           0  ip14290649   \n",
       "\n",
       "          ip_freq_count  idxip_anonymous_c1  idxip_anonymous_c2  \\\n",
       "31249705             87                   0                  87   \n",
       "31249706             73                  73                   6   \n",
       "31249707            223                 223                 177   \n",
       "31249708              4                   0                   4   \n",
       "31249709              1                   1                   1   \n",
       "\n",
       "          idxip_anonymous_c3  idxip_anonymous_c4  idxip_anonymous_c5  \n",
       "31249705                   1                   0                   1  \n",
       "31249706                   2                   3                   1  \n",
       "31249707                   1                   1                   1  \n",
       "31249708                   1                   0                   1  \n",
       "31249709                   1                   1                   1  "
      ]
     },
     "execution_count": 19,
     "metadata": {},
     "output_type": "execute_result"
    }
   ],
   "source": [
    "icdm_df[\"id_all_ip\"][icdm_df[\"id_all_ip\"][\"device_or_cookie_indicator\"] == 0].head()"
   ]
  },
  {
   "cell_type": "code",
   "execution_count": 10,
   "metadata": {
    "collapsed": false
   },
   "outputs": [
    {
     "data": {
      "text/html": [
       "<div style=\"max-height:1000px;max-width:1500px;overflow:auto;\">\n",
       "<table border=\"1\" class=\"dataframe\">\n",
       "  <thead>\n",
       "    <tr style=\"text-align: right;\">\n",
       "      <th></th>\n",
       "      <th>drawbridge_handle</th>\n",
       "      <th>device_id</th>\n",
       "      <th>device_type</th>\n",
       "      <th>device_os</th>\n",
       "      <th>country</th>\n",
       "      <th>anonymous_c0</th>\n",
       "      <th>anonymous_c1</th>\n",
       "      <th>anonymous_c2</th>\n",
       "      <th>anonymous_5</th>\n",
       "      <th>anonymous_6</th>\n",
       "      <th>anonymous_7</th>\n",
       "    </tr>\n",
       "  </thead>\n",
       "  <tbody>\n",
       "    <tr>\n",
       "      <th>0</th>\n",
       "      <td>  handle_292447</td>\n",
       "      <td> id_1000002</td>\n",
       "      <td> devtype_2</td>\n",
       "      <td> devos_138</td>\n",
       "      <td> country_146</td>\n",
       "      <td> 1</td>\n",
       "      <td>  anonymous_c1_331</td>\n",
       "      <td> anonymous_c2_23084</td>\n",
       "      <td> 34</td>\n",
       "      <td>  1</td>\n",
       "      <td> 204</td>\n",
       "    </tr>\n",
       "    <tr>\n",
       "      <th>1</th>\n",
       "      <td> handle_1272807</td>\n",
       "      <td> id_1000061</td>\n",
       "      <td> devtype_2</td>\n",
       "      <td> devos_157</td>\n",
       "      <td> country_146</td>\n",
       "      <td> 0</td>\n",
       "      <td> anonymous_c1_1350</td>\n",
       "      <td>  anonymous_c2_3147</td>\n",
       "      <td> 51</td>\n",
       "      <td>  1</td>\n",
       "      <td> 203</td>\n",
       "    </tr>\n",
       "    <tr>\n",
       "      <th>2</th>\n",
       "      <td> handle_1644226</td>\n",
       "      <td> id_1000068</td>\n",
       "      <td> devtype_2</td>\n",
       "      <td> devos_157</td>\n",
       "      <td> country_146</td>\n",
       "      <td> 0</td>\n",
       "      <td> anonymous_c1_1166</td>\n",
       "      <td> anonymous_c2_11093</td>\n",
       "      <td> 41</td>\n",
       "      <td>  1</td>\n",
       "      <td> 204</td>\n",
       "    </tr>\n",
       "    <tr>\n",
       "      <th>3</th>\n",
       "      <td> handle_1634852</td>\n",
       "      <td> id_1000149</td>\n",
       "      <td> devtype_4</td>\n",
       "      <td> devos_133</td>\n",
       "      <td> country_146</td>\n",
       "      <td> 1</td>\n",
       "      <td> anonymous_c1_1260</td>\n",
       "      <td>  anonymous_c2_2456</td>\n",
       "      <td> 10</td>\n",
       "      <td> 25</td>\n",
       "      <td> 198</td>\n",
       "    </tr>\n",
       "    <tr>\n",
       "      <th>4</th>\n",
       "      <td> handle_1189159</td>\n",
       "      <td> id_1000202</td>\n",
       "      <td> devtype_4</td>\n",
       "      <td>   devos_7</td>\n",
       "      <td> country_146</td>\n",
       "      <td> 0</td>\n",
       "      <td>  anonymous_c1_917</td>\n",
       "      <td> anonymous_c2_19317</td>\n",
       "      <td>  5</td>\n",
       "      <td>  1</td>\n",
       "      <td> 204</td>\n",
       "    </tr>\n",
       "  </tbody>\n",
       "</table>\n",
       "</div>"
      ],
      "text/plain": [
       "  drawbridge_handle   device_id device_type  device_os      country  \\\n",
       "0     handle_292447  id_1000002   devtype_2  devos_138  country_146   \n",
       "1    handle_1272807  id_1000061   devtype_2  devos_157  country_146   \n",
       "2    handle_1644226  id_1000068   devtype_2  devos_157  country_146   \n",
       "3    handle_1634852  id_1000149   devtype_4  devos_133  country_146   \n",
       "4    handle_1189159  id_1000202   devtype_4    devos_7  country_146   \n",
       "\n",
       "   anonymous_c0       anonymous_c1        anonymous_c2  anonymous_5  \\\n",
       "0             1   anonymous_c1_331  anonymous_c2_23084           34   \n",
       "1             0  anonymous_c1_1350   anonymous_c2_3147           51   \n",
       "2             0  anonymous_c1_1166  anonymous_c2_11093           41   \n",
       "3             1  anonymous_c1_1260   anonymous_c2_2456           10   \n",
       "4             0   anonymous_c1_917  anonymous_c2_19317            5   \n",
       "\n",
       "   anonymous_6  anonymous_7  \n",
       "0            1          204  \n",
       "1            1          203  \n",
       "2            1          204  \n",
       "3           25          198  \n",
       "4            1          204  "
      ]
     },
     "execution_count": 10,
     "metadata": {},
     "output_type": "execute_result"
    }
   ],
   "source": [
    "icdm_df[\"dev_train_basic\"].head()"
   ]
  },
  {
   "cell_type": "code",
   "execution_count": 15,
   "metadata": {
    "collapsed": false
   },
   "outputs": [
    {
     "data": {
      "text/html": [
       "<div style=\"max-height:1000px;max-width:1500px;overflow:auto;\">\n",
       "<table border=\"1\" class=\"dataframe\">\n",
       "  <thead>\n",
       "    <tr style=\"text-align: right;\">\n",
       "      <th></th>\n",
       "      <th>drawbridge_handle</th>\n",
       "      <th>cookie_id</th>\n",
       "      <th>computer_os_type</th>\n",
       "      <th>computer_browser_version</th>\n",
       "      <th>country</th>\n",
       "      <th>anonymous_c0</th>\n",
       "      <th>anonymous_c1</th>\n",
       "      <th>anonymous_c2</th>\n",
       "      <th>anonymous_5</th>\n",
       "      <th>anonymous_6</th>\n",
       "      <th>anonymous_7</th>\n",
       "    </tr>\n",
       "  </thead>\n",
       "  <tbody>\n",
       "    <tr>\n",
       "      <th>0</th>\n",
       "      <td>             -1</td>\n",
       "      <td>     id_10</td>\n",
       "      <td> computer_os_type_203</td>\n",
       "      <td> computer_browser_version_1158</td>\n",
       "      <td> country_146</td>\n",
       "      <td> 1</td>\n",
       "      <td> anonymous_c1_1307</td>\n",
       "      <td> anonymous_c2_18778</td>\n",
       "      <td> 15</td>\n",
       "      <td>   1</td>\n",
       "      <td> 204</td>\n",
       "    </tr>\n",
       "    <tr>\n",
       "      <th>1</th>\n",
       "      <td>  handle_609762</td>\n",
       "      <td>    id_100</td>\n",
       "      <td> computer_os_type_133</td>\n",
       "      <td>  computer_browser_version_875</td>\n",
       "      <td> country_146</td>\n",
       "      <td> 1</td>\n",
       "      <td>  anonymous_c1_753</td>\n",
       "      <td>                 -1</td>\n",
       "      <td> 41</td>\n",
       "      <td>   1</td>\n",
       "      <td> 204</td>\n",
       "    </tr>\n",
       "    <tr>\n",
       "      <th>2</th>\n",
       "      <td> handle_1622320</td>\n",
       "      <td>   id_1000</td>\n",
       "      <td> computer_os_type_203</td>\n",
       "      <td>   computer_browser_version_36</td>\n",
       "      <td> country_146</td>\n",
       "      <td> 0</td>\n",
       "      <td>  anonymous_c1_906</td>\n",
       "      <td>   anonymous_c2_751</td>\n",
       "      <td> 40</td>\n",
       "      <td> 140</td>\n",
       "      <td> 204</td>\n",
       "    </tr>\n",
       "    <tr>\n",
       "      <th>3</th>\n",
       "      <td>             -1</td>\n",
       "      <td>  id_10000</td>\n",
       "      <td> computer_os_type_203</td>\n",
       "      <td>   computer_browser_version_36</td>\n",
       "      <td> country_146</td>\n",
       "      <td> 1</td>\n",
       "      <td>  anonymous_c1_255</td>\n",
       "      <td>  anonymous_c2_2725</td>\n",
       "      <td> 34</td>\n",
       "      <td> 140</td>\n",
       "      <td> 204</td>\n",
       "    </tr>\n",
       "    <tr>\n",
       "      <th>4</th>\n",
       "      <td> handle_1286628</td>\n",
       "      <td> id_100000</td>\n",
       "      <td> computer_os_type_203</td>\n",
       "      <td>  computer_browser_version_875</td>\n",
       "      <td> country_146</td>\n",
       "      <td> 0</td>\n",
       "      <td>  anonymous_c1_255</td>\n",
       "      <td>   anonymous_c2_235</td>\n",
       "      <td> 52</td>\n",
       "      <td> 134</td>\n",
       "      <td> 204</td>\n",
       "    </tr>\n",
       "  </tbody>\n",
       "</table>\n",
       "</div>"
      ],
      "text/plain": [
       "  drawbridge_handle  cookie_id      computer_os_type  \\\n",
       "0                -1      id_10  computer_os_type_203   \n",
       "1     handle_609762     id_100  computer_os_type_133   \n",
       "2    handle_1622320    id_1000  computer_os_type_203   \n",
       "3                -1   id_10000  computer_os_type_203   \n",
       "4    handle_1286628  id_100000  computer_os_type_203   \n",
       "\n",
       "        computer_browser_version      country  anonymous_c0  \\\n",
       "0  computer_browser_version_1158  country_146             1   \n",
       "1   computer_browser_version_875  country_146             1   \n",
       "2    computer_browser_version_36  country_146             0   \n",
       "3    computer_browser_version_36  country_146             1   \n",
       "4   computer_browser_version_875  country_146             0   \n",
       "\n",
       "        anonymous_c1        anonymous_c2  anonymous_5  anonymous_6  \\\n",
       "0  anonymous_c1_1307  anonymous_c2_18778           15            1   \n",
       "1   anonymous_c1_753                  -1           41            1   \n",
       "2   anonymous_c1_906    anonymous_c2_751           40          140   \n",
       "3   anonymous_c1_255   anonymous_c2_2725           34          140   \n",
       "4   anonymous_c1_255    anonymous_c2_235           52          134   \n",
       "\n",
       "   anonymous_7  \n",
       "0          204  \n",
       "1          204  \n",
       "2          204  \n",
       "3          204  \n",
       "4          204  "
      ]
     },
     "execution_count": 15,
     "metadata": {},
     "output_type": "execute_result"
    }
   ],
   "source": [
    "icdm_df[\"cookie_all_basic\"].head()"
   ]
  },
  {
   "cell_type": "code",
   "execution_count": 11,
   "metadata": {
    "collapsed": false
   },
   "outputs": [
    {
     "data": {
      "text/html": [
       "<div style=\"max-height:1000px;max-width:1500px;overflow:auto;\">\n",
       "<table border=\"1\" class=\"dataframe\">\n",
       "  <thead>\n",
       "    <tr style=\"text-align: right;\">\n",
       "      <th></th>\n",
       "      <th>drawbridge_handle</th>\n",
       "      <th>device_id</th>\n",
       "      <th>device_type</th>\n",
       "      <th>device_os</th>\n",
       "      <th>country</th>\n",
       "      <th>anonymous_c0</th>\n",
       "      <th>anonymous_c1</th>\n",
       "      <th>anonymous_c2</th>\n",
       "      <th>anonymous_5</th>\n",
       "      <th>anonymous_6</th>\n",
       "      <th>anonymous_7</th>\n",
       "    </tr>\n",
       "  </thead>\n",
       "  <tbody>\n",
       "    <tr>\n",
       "      <th>0</th>\n",
       "      <td>-1</td>\n",
       "      <td>       id_1</td>\n",
       "      <td> devtype_2</td>\n",
       "      <td>  devos_72</td>\n",
       "      <td> country_146</td>\n",
       "      <td> 1</td>\n",
       "      <td>               -1</td>\n",
       "      <td>                 -1</td>\n",
       "      <td> 52</td>\n",
       "      <td>   1</td>\n",
       "      <td> 204</td>\n",
       "    </tr>\n",
       "    <tr>\n",
       "      <th>1</th>\n",
       "      <td>-1</td>\n",
       "      <td>  id_100002</td>\n",
       "      <td> devtype_4</td>\n",
       "      <td>   devos_7</td>\n",
       "      <td> country_146</td>\n",
       "      <td> 1</td>\n",
       "      <td> anonymous_c1_322</td>\n",
       "      <td>  anonymous_c2_3059</td>\n",
       "      <td>  7</td>\n",
       "      <td>   1</td>\n",
       "      <td> 149</td>\n",
       "    </tr>\n",
       "    <tr>\n",
       "      <th>2</th>\n",
       "      <td>-1</td>\n",
       "      <td> id_1000035</td>\n",
       "      <td> devtype_4</td>\n",
       "      <td>  devos_68</td>\n",
       "      <td> country_146</td>\n",
       "      <td>-1</td>\n",
       "      <td> anonymous_c1_814</td>\n",
       "      <td>  anonymous_c2_1918</td>\n",
       "      <td> 17</td>\n",
       "      <td> 106</td>\n",
       "      <td> 201</td>\n",
       "    </tr>\n",
       "    <tr>\n",
       "      <th>3</th>\n",
       "      <td>-1</td>\n",
       "      <td> id_1000099</td>\n",
       "      <td> devtype_2</td>\n",
       "      <td> devos_159</td>\n",
       "      <td> country_146</td>\n",
       "      <td> 0</td>\n",
       "      <td> anonymous_c1_736</td>\n",
       "      <td>                 -1</td>\n",
       "      <td> 19</td>\n",
       "      <td>   1</td>\n",
       "      <td> 203</td>\n",
       "    </tr>\n",
       "    <tr>\n",
       "      <th>4</th>\n",
       "      <td>-1</td>\n",
       "      <td> id_1000294</td>\n",
       "      <td> devtype_4</td>\n",
       "      <td> devos_119</td>\n",
       "      <td> country_146</td>\n",
       "      <td>-1</td>\n",
       "      <td> anonymous_c1_261</td>\n",
       "      <td> anonymous_c2_17508</td>\n",
       "      <td> 19</td>\n",
       "      <td> 147</td>\n",
       "      <td> 204</td>\n",
       "    </tr>\n",
       "  </tbody>\n",
       "</table>\n",
       "</div>"
      ],
      "text/plain": [
       "   drawbridge_handle   device_id device_type  device_os      country  \\\n",
       "0                 -1        id_1   devtype_2   devos_72  country_146   \n",
       "1                 -1   id_100002   devtype_4    devos_7  country_146   \n",
       "2                 -1  id_1000035   devtype_4   devos_68  country_146   \n",
       "3                 -1  id_1000099   devtype_2  devos_159  country_146   \n",
       "4                 -1  id_1000294   devtype_4  devos_119  country_146   \n",
       "\n",
       "   anonymous_c0      anonymous_c1        anonymous_c2  anonymous_5  \\\n",
       "0             1                -1                  -1           52   \n",
       "1             1  anonymous_c1_322   anonymous_c2_3059            7   \n",
       "2            -1  anonymous_c1_814   anonymous_c2_1918           17   \n",
       "3             0  anonymous_c1_736                  -1           19   \n",
       "4            -1  anonymous_c1_261  anonymous_c2_17508           19   \n",
       "\n",
       "   anonymous_6  anonymous_7  \n",
       "0            1          204  \n",
       "1            1          149  \n",
       "2          106          201  \n",
       "3            1          203  \n",
       "4          147          204  "
      ]
     },
     "execution_count": 11,
     "metadata": {},
     "output_type": "execute_result"
    }
   ],
   "source": [
    "icdm_df[\"dev_test_basic\"].head()"
   ]
  },
  {
   "cell_type": "code",
   "execution_count": 8,
   "metadata": {
    "collapsed": false,
    "scrolled": true
   },
   "outputs": [
    {
     "data": {
      "text/html": [
       "<div style=\"max-height:1000px;max-width:1500px;overflow:auto;\">\n",
       "<table border=\"1\" class=\"dataframe\">\n",
       "  <thead>\n",
       "    <tr style=\"text-align: right;\">\n",
       "      <th></th>\n",
       "      <th>drawbridge_handle</th>\n",
       "      <th>cookie_id</th>\n",
       "      <th>computer_os_type</th>\n",
       "      <th>computer_browser_version</th>\n",
       "      <th>country</th>\n",
       "      <th>anonymous_c0</th>\n",
       "      <th>anonymous_c1</th>\n",
       "      <th>anonymous_c2</th>\n",
       "      <th>anonymous_5</th>\n",
       "      <th>anonymous_6</th>\n",
       "      <th>anonymous_7</th>\n",
       "    </tr>\n",
       "  </thead>\n",
       "  <tbody>\n",
       "    <tr>\n",
       "      <th>0</th>\n",
       "      <td>             -1</td>\n",
       "      <td>     id_10</td>\n",
       "      <td> computer_os_type_203</td>\n",
       "      <td> computer_browser_version_1158</td>\n",
       "      <td> country_146</td>\n",
       "      <td> 1</td>\n",
       "      <td> anonymous_c1_1307</td>\n",
       "      <td> anonymous_c2_18778</td>\n",
       "      <td> 15</td>\n",
       "      <td>   1</td>\n",
       "      <td> 204</td>\n",
       "    </tr>\n",
       "    <tr>\n",
       "      <th>1</th>\n",
       "      <td>  handle_609762</td>\n",
       "      <td>    id_100</td>\n",
       "      <td> computer_os_type_133</td>\n",
       "      <td>  computer_browser_version_875</td>\n",
       "      <td> country_146</td>\n",
       "      <td> 1</td>\n",
       "      <td>  anonymous_c1_753</td>\n",
       "      <td>                 -1</td>\n",
       "      <td> 41</td>\n",
       "      <td>   1</td>\n",
       "      <td> 204</td>\n",
       "    </tr>\n",
       "    <tr>\n",
       "      <th>2</th>\n",
       "      <td> handle_1622320</td>\n",
       "      <td>   id_1000</td>\n",
       "      <td> computer_os_type_203</td>\n",
       "      <td>   computer_browser_version_36</td>\n",
       "      <td> country_146</td>\n",
       "      <td> 0</td>\n",
       "      <td>  anonymous_c1_906</td>\n",
       "      <td>   anonymous_c2_751</td>\n",
       "      <td> 40</td>\n",
       "      <td> 140</td>\n",
       "      <td> 204</td>\n",
       "    </tr>\n",
       "    <tr>\n",
       "      <th>3</th>\n",
       "      <td>             -1</td>\n",
       "      <td>  id_10000</td>\n",
       "      <td> computer_os_type_203</td>\n",
       "      <td>   computer_browser_version_36</td>\n",
       "      <td> country_146</td>\n",
       "      <td> 1</td>\n",
       "      <td>  anonymous_c1_255</td>\n",
       "      <td>  anonymous_c2_2725</td>\n",
       "      <td> 34</td>\n",
       "      <td> 140</td>\n",
       "      <td> 204</td>\n",
       "    </tr>\n",
       "    <tr>\n",
       "      <th>4</th>\n",
       "      <td> handle_1286628</td>\n",
       "      <td> id_100000</td>\n",
       "      <td> computer_os_type_203</td>\n",
       "      <td>  computer_browser_version_875</td>\n",
       "      <td> country_146</td>\n",
       "      <td> 0</td>\n",
       "      <td>  anonymous_c1_255</td>\n",
       "      <td>   anonymous_c2_235</td>\n",
       "      <td> 52</td>\n",
       "      <td> 134</td>\n",
       "      <td> 204</td>\n",
       "    </tr>\n",
       "  </tbody>\n",
       "</table>\n",
       "</div>"
      ],
      "text/plain": [
       "  drawbridge_handle  cookie_id      computer_os_type  \\\n",
       "0                -1      id_10  computer_os_type_203   \n",
       "1     handle_609762     id_100  computer_os_type_133   \n",
       "2    handle_1622320    id_1000  computer_os_type_203   \n",
       "3                -1   id_10000  computer_os_type_203   \n",
       "4    handle_1286628  id_100000  computer_os_type_203   \n",
       "\n",
       "        computer_browser_version      country  anonymous_c0  \\\n",
       "0  computer_browser_version_1158  country_146             1   \n",
       "1   computer_browser_version_875  country_146             1   \n",
       "2    computer_browser_version_36  country_146             0   \n",
       "3    computer_browser_version_36  country_146             1   \n",
       "4   computer_browser_version_875  country_146             0   \n",
       "\n",
       "        anonymous_c1        anonymous_c2  anonymous_5  anonymous_6  \\\n",
       "0  anonymous_c1_1307  anonymous_c2_18778           15            1   \n",
       "1   anonymous_c1_753                  -1           41            1   \n",
       "2   anonymous_c1_906    anonymous_c2_751           40          140   \n",
       "3   anonymous_c1_255   anonymous_c2_2725           34          140   \n",
       "4   anonymous_c1_255    anonymous_c2_235           52          134   \n",
       "\n",
       "   anonymous_7  \n",
       "0          204  \n",
       "1          204  \n",
       "2          204  \n",
       "3          204  \n",
       "4          204  "
      ]
     },
     "execution_count": 8,
     "metadata": {},
     "output_type": "execute_result"
    }
   ],
   "source": [
    "icdm_df[\"cookie_all_basic\"].head()"
   ]
  },
  {
   "cell_type": "code",
   "execution_count": 27,
   "metadata": {
    "collapsed": false
   },
   "outputs": [
    {
     "data": {
      "text/plain": [
       "(34176619, 9)"
      ]
     },
     "execution_count": 27,
     "metadata": {},
     "output_type": "execute_result"
    }
   ],
   "source": [
    "icdm_df[\"id_all_ip\"].shape"
   ]
  },
  {
   "cell_type": "code",
   "execution_count": 25,
   "metadata": {
    "collapsed": false,
    "scrolled": true
   },
   "outputs": [
    {
     "ename": "AttributeError",
     "evalue": "__exit__",
     "output_type": "error",
     "traceback": [
      "\u001b[0;31m---------------------------------------------------------------------------\u001b[0m",
      "\u001b[0;31mAttributeError\u001b[0m                            Traceback (most recent call last)",
      "\u001b[0;32m<ipython-input-25-89571e903706>\u001b[0m in \u001b[0;36m<module>\u001b[0;34m()\u001b[0m\n\u001b[1;32m     13\u001b[0m \u001b[0;34m\u001b[0m\u001b[0m\n\u001b[1;32m     14\u001b[0m \u001b[0;34m\u001b[0m\u001b[0m\n\u001b[0;32m---> 15\u001b[0;31m \u001b[0mfix_bad_csv\u001b[0m\u001b[0;34m(\u001b[0m\u001b[0;34m\"id_all_property.csv\"\u001b[0m\u001b[0;34m,\u001b[0m \u001b[0;34m\"id_all_property.csv.gz\"\u001b[0m\u001b[0;34m,\u001b[0m \u001b[0;36m2\u001b[0m\u001b[0;34m)\u001b[0m \u001b[0;31m# 3rd column\u001b[0m\u001b[0;34m\u001b[0m\u001b[0m\n\u001b[0m",
      "\u001b[0;32m<ipython-input-25-89571e903706>\u001b[0m in \u001b[0;36mfix_bad_csv\u001b[0;34m(input_file, output_file, bad_col)\u001b[0m\n\u001b[1;32m      5\u001b[0m \u001b[0;32mdef\u001b[0m \u001b[0mfix_bad_csv\u001b[0m\u001b[0;34m(\u001b[0m\u001b[0minput_file\u001b[0m\u001b[0;34m,\u001b[0m \u001b[0moutput_file\u001b[0m\u001b[0;34m,\u001b[0m \u001b[0mbad_col\u001b[0m\u001b[0;34m)\u001b[0m\u001b[0;34m:\u001b[0m\u001b[0;34m\u001b[0m\u001b[0m\n\u001b[1;32m      6\u001b[0m     \u001b[0;32mwith\u001b[0m \u001b[0mopen\u001b[0m\u001b[0;34m(\u001b[0m\u001b[0minput_file\u001b[0m\u001b[0;34m)\u001b[0m \u001b[0;32mas\u001b[0m \u001b[0mf_in\u001b[0m\u001b[0;34m:\u001b[0m\u001b[0;34m\u001b[0m\u001b[0m\n\u001b[0;32m----> 7\u001b[0;31m         \u001b[0;32mwith\u001b[0m \u001b[0msubprocess\u001b[0m\u001b[0;34m.\u001b[0m\u001b[0mPopen\u001b[0m\u001b[0;34m(\u001b[0m\u001b[0;34m\"gzip -c > %s\"\u001b[0m \u001b[0;34m%\u001b[0m \u001b[0moutput_file\u001b[0m\u001b[0;34m,\u001b[0m \u001b[0mshell\u001b[0m\u001b[0;34m=\u001b[0m\u001b[0mTrue\u001b[0m\u001b[0;34m,\u001b[0m \u001b[0mstdin\u001b[0m\u001b[0;34m=\u001b[0m\u001b[0msubprocess\u001b[0m\u001b[0;34m.\u001b[0m\u001b[0mPIPE\u001b[0m\u001b[0;34m)\u001b[0m \u001b[0;32mas\u001b[0m \u001b[0mp\u001b[0m\u001b[0;34m:\u001b[0m\u001b[0;34m\u001b[0m\u001b[0m\n\u001b[0m\u001b[1;32m      8\u001b[0m             \u001b[0;32mfor\u001b[0m \u001b[0mline\u001b[0m \u001b[0;32min\u001b[0m \u001b[0mf_in\u001b[0m\u001b[0;34m:\u001b[0m\u001b[0;34m\u001b[0m\u001b[0m\n\u001b[1;32m      9\u001b[0m                 \u001b[0mrow\u001b[0m \u001b[0;34m=\u001b[0m \u001b[0mcsv\u001b[0m\u001b[0;34m.\u001b[0m\u001b[0mreader\u001b[0m\u001b[0;34m(\u001b[0m\u001b[0mStringIO\u001b[0m\u001b[0;34m(\u001b[0m\u001b[0mline\u001b[0m\u001b[0;34m.\u001b[0m\u001b[0mstrip\u001b[0m\u001b[0;34m(\u001b[0m\u001b[0;34m)\u001b[0m\u001b[0;34m.\u001b[0m\u001b[0mreplace\u001b[0m\u001b[0;34m(\u001b[0m\u001b[0;34m\"{\"\u001b[0m\u001b[0;34m,\u001b[0m \u001b[0;34m\"\\\"\"\u001b[0m\u001b[0;34m)\u001b[0m\u001b[0;34m.\u001b[0m\u001b[0mreplace\u001b[0m\u001b[0;34m(\u001b[0m\u001b[0;34m\"}\"\u001b[0m\u001b[0;34m,\u001b[0m \u001b[0;34m\"\\\"\"\u001b[0m\u001b[0;34m)\u001b[0m\u001b[0;34m)\u001b[0m\u001b[0;34m)\u001b[0m\u001b[0;34m.\u001b[0m\u001b[0m__next__\u001b[0m\u001b[0;34m(\u001b[0m\u001b[0;34m)\u001b[0m\u001b[0;34m\u001b[0m\u001b[0m\n",
      "\u001b[0;31mAttributeError\u001b[0m: __exit__"
     ]
    }
   ],
   "source": [
    "import csv\n",
    "from io import StringIO\n",
    "import subprocess\n",
    "\n",
    "def fix_bad_csv(input_file, output_file, bad_col):\n",
    "    with open(input_file) as f_in:\n",
    "        with subprocess.Popen(\"gzip -c > %s\" % output_file, shell=True, stdin=subprocess.PIPE) as p:\n",
    "            for line in f_in:\n",
    "                row = csv.reader(StringIO(line.strip().replace(\"{\", \"\\\"\").replace(\"}\", \"\\\"\"))).__next__()\n",
    "                for el in csv.reader(StringIO(row[bad_col].replace(\"(\", \"\\\"\").replace(\")\", \"\\\"\"))).__next__():\n",
    "                    p.stdin.write(bytes(\",\".join(row[:bad_col] + el.split(\",\")) + \"\\n\", \"UTF-8\"))\n",
    "            p.communicate()\n",
    "        \n",
    "\n",
    "fix_bad_csv(\"id_all_property.csv\", \"id_all_property.csv.gz\", 2) # 3rd column"
   ]
  },
  {
   "cell_type": "code",
   "execution_count": 13,
   "metadata": {
    "collapsed": false
   },
   "outputs": [
    {
     "data": {
      "text/plain": [
       "['id_all_ip', 'csv', 'zip']"
      ]
     },
     "execution_count": 13,
     "metadata": {},
     "output_type": "execute_result"
    }
   ],
   "source": [
    "'id_all_ip.csv.zip'.split(\".\")"
   ]
  },
  {
   "cell_type": "code",
   "execution_count": null,
   "metadata": {
    "collapsed": true
   },
   "outputs": [],
   "source": []
  }
 ],
 "metadata": {
  "kernelspec": {
   "display_name": "Python 2",
   "language": "python",
   "name": "python2"
  },
  "language_info": {
   "codemirror_mode": {
    "name": "ipython",
    "version": 2
   },
   "file_extension": ".py",
   "mimetype": "text/x-python",
   "name": "python",
   "nbconvert_exporter": "python",
   "pygments_lexer": "ipython2",
   "version": "2.7.9"
  }
 },
 "nbformat": 4,
 "nbformat_minor": 0
}
